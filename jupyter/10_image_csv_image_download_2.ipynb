{
 "cells": [
  {
   "cell_type": "code",
   "execution_count": 1,
   "metadata": {},
   "outputs": [],
   "source": [
    "import requests\n",
    "import pandas as pd\n",
    "import os\n",
    "import re"
   ]
  },
  {
   "cell_type": "code",
   "execution_count": 4,
   "metadata": {},
   "outputs": [],
   "source": [
    "import sys"
   ]
  },
  {
   "cell_type": "code",
   "execution_count": 5,
   "metadata": {},
   "outputs": [],
   "source": [
    "def download_image(url, timeout=10):\n",
    "    response = requests.get(url, allow_redirects=False, timeout=timeout)\n",
    "    if response.status_code != 200:\n",
    "        e = Exception(f\"HTTP status: {response.status_code}\")\n",
    "        raise e\n",
    "\n",
    "    content_type = response.headers[\"content-type\"]\n",
    "    if 'image' not in content_type:\n",
    "        e = Exception(f\"Content-Type: {content_type}\")\n",
    "        raise e\n",
    "\n",
    "    return response.content\n",
    "\n",
    "\n",
    "# 画像のファイル名を決める\n",
    "def make_filename(base_dir, filename, url):\n",
    "    ext = os.path.splitext(url)[1] # 拡張子を取得\n",
    "    filename += str(ext)        # 番号に拡張子をつけてファイル名にする\n",
    "\n",
    "    fullpath = os.path.join(base_dir, filename)\n",
    "    return fullpath\n",
    "\n",
    "\n",
    "# 画像を保存する\n",
    "def save_image(filename, image):\n",
    "    with open(filename, \"wb\") as fout:\n",
    "        fout.write(image)"
   ]
  },
  {
   "cell_type": "code",
   "execution_count": 11,
   "metadata": {},
   "outputs": [],
   "source": [
    "_csv_files = ['10_暗い雰囲気.csv']"
   ]
  },
  {
   "cell_type": "code",
   "execution_count": 13,
   "metadata": {},
   "outputs": [],
   "source": [
    "os.makedirs(os.path.join('..', 'data', '10_暗い雰囲気'))"
   ]
  },
  {
   "cell_type": "code",
   "execution_count": 14,
   "metadata": {},
   "outputs": [
    {
     "name": "stdout",
     "output_type": "stream",
     "text": [
      "HTTP status: 403\n",
      "HTTP status: 302\n",
      "Content-Type: binary/octet-stream\n",
      "HTTP status: 404\n",
      "HTTP status: 404\n",
      "HTTP status: 302\n",
      "HTTP status: 403\n"
     ]
    }
   ],
   "source": [
    "for csv_file in _csv_files:\n",
    "    try:\n",
    "        df = pd.read_csv(csv_file)\n",
    "        key_name = csv_file.split('.')[0]\n",
    "    except Exception as e:\n",
    "        print(e)\n",
    "        continue\n",
    "\n",
    "    for idx, d in enumerate(df.itertuples()):\n",
    "        _, _, url, mime_type, h, w = d[1:]\n",
    "        filename = make_filename(os.path.join('..', 'data', key_name), f'{idx}_{h}_{w}', url)\n",
    "        try:\n",
    "            image = download_image(url)\n",
    "            save_image(filename, image)\n",
    "        except Exception as err:\n",
    "            print(err)"
   ]
  },
  {
   "cell_type": "code",
   "execution_count": null,
   "metadata": {},
   "outputs": [],
   "source": []
  }
 ],
 "metadata": {
  "kernelspec": {
   "display_name": "Python 3",
   "language": "python",
   "name": "python3"
  },
  "language_info": {
   "codemirror_mode": {
    "name": "ipython",
    "version": 3
   },
   "file_extension": ".py",
   "mimetype": "text/x-python",
   "name": "python",
   "nbconvert_exporter": "python",
   "pygments_lexer": "ipython3",
   "version": "3.7.3"
  }
 },
 "nbformat": 4,
 "nbformat_minor": 2
}
