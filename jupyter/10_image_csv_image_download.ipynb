{
 "cells": [
  {
   "cell_type": "code",
   "execution_count": 47,
   "metadata": {},
   "outputs": [],
   "source": [
    "import requests\n",
    "import pandas as pd\n",
    "import os\n",
    "import re"
   ]
  },
  {
   "cell_type": "code",
   "execution_count": 48,
   "metadata": {},
   "outputs": [],
   "source": [
    "csv_files = []\n",
    "for root, _dirs, files in os.walk('.'):\n",
    "    for file in files:\n",
    "        if re.match(r'.*\\.csv', file):\n",
    "            csv_files.append(file)"
   ]
  },
  {
   "cell_type": "code",
   "execution_count": 49,
   "metadata": {},
   "outputs": [
    {
     "data": {
      "text/plain": [
       "['10_キンゴジ.csv',\n",
       " '10_大戦争ゴジ.csv',\n",
       " '10_メガロゴジ.csv',\n",
       " '10_初ゴジ.csv',\n",
       " '10_総進撃ゴジ.csv',\n",
       " '10_息子ゴジ.csv',\n",
       " '10_ビオゴジ.csv',\n",
       " '10_恐竜.csv',\n",
       " '10_モスゴジ.csv',\n",
       " '10_エメゴジ_2.csv',\n",
       " '10_エメゴジ.csv',\n",
       " '10_爬虫類.csv',\n",
       " '10_ミレゴジ.csv',\n",
       " '10_ガメラ.csv',\n",
       " '10_ファイナルゴジ.csv',\n",
       " '10_南海ゴジ.csv',\n",
       " '10_ギラゴジ.csv',\n",
       " '10_ギャレゴジ.csv',\n",
       " '10_84ゴジ.csv',\n",
       " '10_バトゴジ.csv',\n",
       " '10_シンゴジラ.csv',\n",
       " '10_モゲゴジ.csv',\n",
       " '10_ラドゴジ.csv',\n",
       " '10_逆ゴジ.csv',\n",
       " '10_機龍ゴジ.csv',\n",
       " '10_ギドゴジ.csv',\n",
       " '10_デスゴジ.csv',\n",
       " '10_GMKゴジ.csv',\n",
       " '10_ウルトラ怪獣.csv',\n",
       " '10_決戦ゴジ.csv',\n",
       " '10_SOSゴジ.csv']"
      ]
     },
     "execution_count": 49,
     "metadata": {},
     "output_type": "execute_result"
    }
   ],
   "source": [
    "csv_files"
   ]
  },
  {
   "cell_type": "code",
   "execution_count": 11,
   "metadata": {},
   "outputs": [],
   "source": [
    "csv_file = csv_files[0]"
   ]
  },
  {
   "cell_type": "code",
   "execution_count": 12,
   "metadata": {},
   "outputs": [],
   "source": [
    "df = pd.read_csv(csv_file)"
   ]
  },
  {
   "cell_type": "code",
   "execution_count": 13,
   "metadata": {},
   "outputs": [
    {
     "data": {
      "text/html": [
       "<div>\n",
       "<style scoped>\n",
       "    .dataframe tbody tr th:only-of-type {\n",
       "        vertical-align: middle;\n",
       "    }\n",
       "\n",
       "    .dataframe tbody tr th {\n",
       "        vertical-align: top;\n",
       "    }\n",
       "\n",
       "    .dataframe thead th {\n",
       "        text-align: right;\n",
       "    }\n",
       "</style>\n",
       "<table border=\"1\" class=\"dataframe\">\n",
       "  <thead>\n",
       "    <tr style=\"text-align: right;\">\n",
       "      <th></th>\n",
       "      <th>q</th>\n",
       "      <th>id</th>\n",
       "      <th>link</th>\n",
       "      <th>mime_type</th>\n",
       "      <th>height</th>\n",
       "      <th>width</th>\n",
       "    </tr>\n",
       "  </thead>\n",
       "  <tbody>\n",
       "    <tr>\n",
       "      <th>0</th>\n",
       "      <td>キンゴジ</td>\n",
       "      <td>03_king_kong_godzilla</td>\n",
       "      <td>https://news.mynavi.jp/article/20180721-667818...</td>\n",
       "      <td>image/jpeg</td>\n",
       "      <td>400</td>\n",
       "      <td>400</td>\n",
       "    </tr>\n",
       "    <tr>\n",
       "      <th>1</th>\n",
       "      <td>キンゴジ</td>\n",
       "      <td>03_king_kong_godzilla</td>\n",
       "      <td>https://pbs.twimg.com/media/EbJdzf_WoAopE_X.jpg</td>\n",
       "      <td>image/jpeg</td>\n",
       "      <td>626</td>\n",
       "      <td>1200</td>\n",
       "    </tr>\n",
       "    <tr>\n",
       "      <th>2</th>\n",
       "      <td>キンゴジ</td>\n",
       "      <td>03_king_kong_godzilla</td>\n",
       "      <td>https://livedoor.blogimg.jp/jef_godzilla/imgs/...</td>\n",
       "      <td>image/jpeg</td>\n",
       "      <td>1280</td>\n",
       "      <td>960</td>\n",
       "    </tr>\n",
       "    <tr>\n",
       "      <th>3</th>\n",
       "      <td>キンゴジ</td>\n",
       "      <td>03_king_kong_godzilla</td>\n",
       "      <td>https://i.pinimg.com/474x/2d/e6/06/2de6066d106...</td>\n",
       "      <td>image/jpeg</td>\n",
       "      <td>689</td>\n",
       "      <td>437</td>\n",
       "    </tr>\n",
       "    <tr>\n",
       "      <th>4</th>\n",
       "      <td>キンゴジ</td>\n",
       "      <td>03_king_kong_godzilla</td>\n",
       "      <td>https://pds.exblog.jp/pds/1/201011/10/91/b0007...</td>\n",
       "      <td>image/jpeg</td>\n",
       "      <td>615</td>\n",
       "      <td>735</td>\n",
       "    </tr>\n",
       "  </tbody>\n",
       "</table>\n",
       "</div>"
      ],
      "text/plain": [
       "      q                     id  \\\n",
       "0  キンゴジ  03_king_kong_godzilla   \n",
       "1  キンゴジ  03_king_kong_godzilla   \n",
       "2  キンゴジ  03_king_kong_godzilla   \n",
       "3  キンゴジ  03_king_kong_godzilla   \n",
       "4  キンゴジ  03_king_kong_godzilla   \n",
       "\n",
       "                                                link   mime_type  height  \\\n",
       "0  https://news.mynavi.jp/article/20180721-667818...  image/jpeg     400   \n",
       "1    https://pbs.twimg.com/media/EbJdzf_WoAopE_X.jpg  image/jpeg     626   \n",
       "2  https://livedoor.blogimg.jp/jef_godzilla/imgs/...  image/jpeg    1280   \n",
       "3  https://i.pinimg.com/474x/2d/e6/06/2de6066d106...  image/jpeg     689   \n",
       "4  https://pds.exblog.jp/pds/1/201011/10/91/b0007...  image/jpeg     615   \n",
       "\n",
       "   width  \n",
       "0    400  \n",
       "1   1200  \n",
       "2    960  \n",
       "3    437  \n",
       "4    735  "
      ]
     },
     "execution_count": 13,
     "metadata": {},
     "output_type": "execute_result"
    }
   ],
   "source": [
    "df.head()"
   ]
  },
  {
   "cell_type": "code",
   "execution_count": 50,
   "metadata": {},
   "outputs": [],
   "source": [
    "import sys"
   ]
  },
  {
   "cell_type": "code",
   "execution_count": 51,
   "metadata": {},
   "outputs": [],
   "source": [
    "def download_image(url, timeout=10):\n",
    "    response = requests.get(url, allow_redirects=False, timeout=timeout)\n",
    "    if response.status_code != 200:\n",
    "        e = Exception(f\"HTTP status: {response.status_code}\")\n",
    "        raise e\n",
    "\n",
    "    content_type = response.headers[\"content-type\"]\n",
    "    if 'image' not in content_type:\n",
    "        e = Exception(f\"Content-Type: {content_type}\")\n",
    "        raise e\n",
    "\n",
    "    return response.content\n",
    "\n",
    "\n",
    "# 画像のファイル名を決める\n",
    "def make_filename(base_dir, filename, url):\n",
    "    ext = os.path.splitext(url)[1] # 拡張子を取得\n",
    "    filename += str(ext)        # 番号に拡張子をつけてファイル名にする\n",
    "\n",
    "    fullpath = os.path.join(base_dir, filename)\n",
    "    return fullpath\n",
    "\n",
    "\n",
    "# 画像を保存する\n",
    "def save_image(filename, image):\n",
    "    with open(filename, \"wb\") as fout:\n",
    "        fout.write(image)"
   ]
  },
  {
   "cell_type": "code",
   "execution_count": 52,
   "metadata": {},
   "outputs": [],
   "source": [
    "# !mkdir ../data/10_xxx"
   ]
  },
  {
   "cell_type": "code",
   "execution_count": 30,
   "metadata": {},
   "outputs": [
    {
     "data": {
      "text/plain": [
       "'../data/10_xxx/0_100_100.jpg'"
      ]
     },
     "execution_count": 30,
     "metadata": {},
     "output_type": "execute_result"
    }
   ],
   "source": [
    "url = 'https://news.mynavi.jp/article/20180721-667818/images/001.jpg'\n",
    "h = 100\n",
    "w = 100\n",
    "idx = 0\n",
    "filename = make_filename('../data/10_xxx', f'{idx}_{h}_{w}', url)\n",
    "filename"
   ]
  },
  {
   "cell_type": "code",
   "execution_count": 33,
   "metadata": {},
   "outputs": [],
   "source": [
    "url = 'https://news.mynavi.jp/article/20180721-667818/images/001.jpg'\n",
    "h = 100\n",
    "w = 100\n",
    "idx = 0\n",
    "filename = make_filename('../data/10_xxx', f'{idx}_{h}_{w}', url)\n",
    "try:\n",
    "    image = download_image(url)\n",
    "    save_image(filename, image)\n",
    "except Exception as err:\n",
    "    print(\"%s\" % (err))"
   ]
  },
  {
   "cell_type": "code",
   "execution_count": 34,
   "metadata": {},
   "outputs": [
    {
     "name": "stdout",
     "output_type": "stream",
     "text": [
      "0_100_100.jpg\r\n"
     ]
    }
   ],
   "source": [
    "!ls ../data/10_xxx/"
   ]
  },
  {
   "cell_type": "code",
   "execution_count": 35,
   "metadata": {},
   "outputs": [
    {
     "data": {
      "text/plain": [
       "'10_キンゴジ.csv'"
      ]
     },
     "execution_count": 35,
     "metadata": {},
     "output_type": "execute_result"
    }
   ],
   "source": [
    "csv_file"
   ]
  },
  {
   "cell_type": "code",
   "execution_count": 36,
   "metadata": {},
   "outputs": [
    {
     "data": {
      "text/plain": [
       "'10_キンゴジ'"
      ]
     },
     "execution_count": 36,
     "metadata": {},
     "output_type": "execute_result"
    }
   ],
   "source": [
    "key_name = csv_file.split('.')[0]\n",
    "key_name"
   ]
  },
  {
   "cell_type": "code",
   "execution_count": 53,
   "metadata": {},
   "outputs": [
    {
     "data": {
      "text/plain": [
       "['10_キンゴジ.csv',\n",
       " '10_大戦争ゴジ.csv',\n",
       " '10_メガロゴジ.csv',\n",
       " '10_初ゴジ.csv',\n",
       " '10_総進撃ゴジ.csv',\n",
       " '10_息子ゴジ.csv',\n",
       " '10_ビオゴジ.csv',\n",
       " '10_恐竜.csv',\n",
       " '10_モスゴジ.csv',\n",
       " '10_エメゴジ_2.csv',\n",
       " '10_エメゴジ.csv',\n",
       " '10_爬虫類.csv',\n",
       " '10_ミレゴジ.csv',\n",
       " '10_ガメラ.csv',\n",
       " '10_ファイナルゴジ.csv',\n",
       " '10_南海ゴジ.csv',\n",
       " '10_ギラゴジ.csv',\n",
       " '10_ギャレゴジ.csv',\n",
       " '10_84ゴジ.csv',\n",
       " '10_バトゴジ.csv',\n",
       " '10_シンゴジラ.csv',\n",
       " '10_モゲゴジ.csv',\n",
       " '10_ラドゴジ.csv',\n",
       " '10_逆ゴジ.csv',\n",
       " '10_機龍ゴジ.csv',\n",
       " '10_ギドゴジ.csv',\n",
       " '10_デスゴジ.csv',\n",
       " '10_GMKゴジ.csv',\n",
       " '10_ウルトラ怪獣.csv',\n",
       " '10_決戦ゴジ.csv',\n",
       " '10_SOSゴジ.csv']"
      ]
     },
     "execution_count": 53,
     "metadata": {},
     "output_type": "execute_result"
    }
   ],
   "source": [
    "csv_files"
   ]
  },
  {
   "cell_type": "code",
   "execution_count": 56,
   "metadata": {},
   "outputs": [],
   "source": [
    "_csv_files = ['10_爬虫類.csv', '10_ウルトラ怪獣.csv', '10_ガメラ.csv']"
   ]
  },
  {
   "cell_type": "code",
   "execution_count": 58,
   "metadata": {},
   "outputs": [
    {
     "name": "stdout",
     "output_type": "stream",
     "text": [
      "[Errno 17] File exists: '../data/10_爬虫類'\n"
     ]
    }
   ],
   "source": [
    "for csv_file in _csv_files:\n",
    "    try:\n",
    "        os.mkdir(os.path.join('..', 'data', csv_file.split('.')[0]))\n",
    "    except Exception as e:\n",
    "        print(e)"
   ]
  },
  {
   "cell_type": "code",
   "execution_count": 60,
   "metadata": {},
   "outputs": [
    {
     "name": "stdout",
     "output_type": "stream",
     "text": [
      "HTTP status: 301\n",
      "HTTP status: 302\n",
      "HTTP status: 301\n",
      "HTTP status: 403\n",
      "HTTPSConnectionPool(host='seikatsu-hyakka.com', port=443): Max retries exceeded with url: /shared/uploads/2018/04/P1030033_TP_V_R.jpg (Caused by SSLError(SSLError(\"bad handshake: Error([('SSL routines', 'tls_process_server_certificate', 'certificate verify failed')])\")))\n",
      "HTTP status: 301\n",
      "HTTP status: 301\n",
      "HTTP status: 302\n",
      "HTTP status: 302\n",
      "HTTPSConnectionPool(host='dist.joshinweb.jp', port=443): Read timed out. (read timeout=10)\n",
      "HTTP status: 302\n",
      "HTTP status: 301\n",
      "HTTPSConnectionPool(host='dist.joshinweb.jp', port=443): Read timed out. (read timeout=10)\n",
      "HTTP status: 302\n",
      "HTTP status: 301\n",
      "'content-type'\n",
      "HTTP status: 301\n",
      "HTTP status: 403\n",
      "HTTPSConnectionPool(host='www.kinokuniya.co.jp', port=443): Read timed out. (read timeout=10)\n",
      "HTTP status: 302\n",
      "HTTP status: 301\n",
      "('Connection aborted.', RemoteDisconnected('Remote end closed connection without response'))\n"
     ]
    }
   ],
   "source": [
    "for csv_file in _csv_files:\n",
    "    try:\n",
    "        df = pd.read_csv(csv_file)\n",
    "        key_name = csv_file.split('.')[0]\n",
    "    except Exception as e:\n",
    "        print(e)\n",
    "        continue\n",
    "\n",
    "    for idx, d in enumerate(df.itertuples()):\n",
    "        _, _, url, mime_type, h, w = d[1:]\n",
    "        filename = make_filename(os.path.join('..', 'data', key_name), f'{idx}_{h}_{w}', url)\n",
    "        try:\n",
    "            image = download_image(url)\n",
    "            save_image(filename, image)\n",
    "        except Exception as err:\n",
    "            print(err)"
   ]
  },
  {
   "cell_type": "code",
   "execution_count": null,
   "metadata": {},
   "outputs": [],
   "source": []
  }
 ],
 "metadata": {
  "kernelspec": {
   "display_name": "Python 3",
   "language": "python",
   "name": "python3"
  },
  "language_info": {
   "codemirror_mode": {
    "name": "ipython",
    "version": 3
   },
   "file_extension": ".py",
   "mimetype": "text/x-python",
   "name": "python",
   "nbconvert_exporter": "python",
   "pygments_lexer": "ipython3",
   "version": "3.7.3"
  }
 },
 "nbformat": 4,
 "nbformat_minor": 2
}
